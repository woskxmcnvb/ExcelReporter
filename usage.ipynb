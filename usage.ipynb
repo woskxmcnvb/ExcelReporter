{
 "cells": [
  {
   "cell_type": "code",
   "execution_count": 2,
   "id": "2617796a-88bc-45f7-9d30-2ea3d1f7b3f5",
   "metadata": {
    "tags": []
   },
   "outputs": [],
   "source": [
    "%load_ext autoreload\n",
    "%autoreload 2\n",
    "\n",
    "import pandas as pd\n",
    "import numpy as np\n",
    "\n",
    "from ExcelReportBuilder import ExcelReportBuilder"
   ]
  },
  {
   "cell_type": "code",
   "execution_count": 12,
   "id": "bcbae62c-7c7e-44db-b671-4bae4eb1396c",
   "metadata": {
    "tags": []
   },
   "outputs": [],
   "source": [
    "# Some tables\n",
    "\n",
    "data = pd.DataFrame(np.zeros((10, 3)), columns=[\"a\", \"b\", \"c\"])\n",
    "#data\n",
    "\n",
    "data1 = pd.DataFrame(np.ones((3, 10)))\n",
    "#data1"
   ]
  },
  {
   "cell_type": "code",
   "execution_count": 11,
   "id": "8f3a35f8-5a65-4b30-a0a3-dd2273e2dc8a",
   "metadata": {
    "tags": []
   },
   "outputs": [],
   "source": [
    "# Writing tables\n",
    "\n",
    "reporter = ExcelReportBuilder('report.xlsx')\n",
    "reporter.AddTable(data, \"data\", title=\"Some data\", description=\"text \\n text1\")\n",
    "reporter.AddTable(data1, \"data\", title=\"Some data 1\", description=\"some description\")\n",
    "reporter.SaveToFile()"
   ]
  }
 ],
 "metadata": {
  "kernelspec": {
   "display_name": "Python 3 (ipykernel)",
   "language": "python",
   "name": "python3"
  },
  "language_info": {
   "codemirror_mode": {
    "name": "ipython",
    "version": 3
   },
   "file_extension": ".py",
   "mimetype": "text/x-python",
   "name": "python",
   "nbconvert_exporter": "python",
   "pygments_lexer": "ipython3",
   "version": "3.11.5"
  }
 },
 "nbformat": 4,
 "nbformat_minor": 5
}
